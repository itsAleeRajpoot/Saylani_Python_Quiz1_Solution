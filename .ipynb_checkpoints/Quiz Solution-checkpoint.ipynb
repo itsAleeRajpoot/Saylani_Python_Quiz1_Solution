{
 "cells": [
  {
   "cell_type": "markdown",
   "id": "989a16fe",
   "metadata": {},
   "source": [
    "###### Q1) What is the output of print list[1:3] where list = ['abcd',786,2.23,'john',70.2]?"
   ]
  },
  {
   "cell_type": "code",
   "execution_count": 1,
   "id": "6b9748ec",
   "metadata": {},
   "outputs": [],
   "source": [
    "lst = ['abcd',786,2.23,'john',70.2]"
   ]
  },
  {
   "cell_type": "code",
   "execution_count": 2,
   "id": "5e1ac464",
   "metadata": {},
   "outputs": [
    {
     "data": {
      "text/plain": [
       "[786, 2.23]"
      ]
     },
     "execution_count": 2,
     "metadata": {},
     "output_type": "execute_result"
    }
   ],
   "source": [
    "lst[1:3]"
   ]
  },
  {
   "cell_type": "markdown",
   "id": "f5a32518",
   "metadata": {},
   "source": [
    "###### Q2)What is the output of the following snippet:\n",
    "- favorite_lan = {'Shahid' : 'English','salma':'Hindi','edward' : 'Chinese','Ali' : 'Urdu'}\n",
    "- favorite_lan[0] = \"Farsi\"\n",
    "- print(favorite_lan}"
   ]
  },
  {
   "cell_type": "code",
   "execution_count": 3,
   "id": "41c3d4c4",
   "metadata": {},
   "outputs": [
    {
     "name": "stdout",
     "output_type": "stream",
     "text": [
      "{'Shahid': 'English', 'salma': 'Hindi', 'edward': 'Chinese', 'Ali': 'Urdu', 0: 'Farsi'}\n"
     ]
    }
   ],
   "source": [
    "favorite_lan = {'Shahid' : 'English','salma':'Hindi','edward' : 'Chinese','Ali' : 'Urdu'}\n",
    "favorite_lan[0] = \"Farsi\"\n",
    "print(favorite_lan)"
   ]
  },
  {
   "cell_type": "markdown",
   "id": "41c418a9",
   "metadata": {},
   "source": [
    "###### Q3)What is the expected output of the following snippet?\n",
    "- lst1 = \"12,34\"\n",
    "- lst2 = lst1.split(',')\n",
    "- print(len(lst1) < len(lst2))"
   ]
  },
  {
   "cell_type": "code",
   "execution_count": 4,
   "id": "c2a596bd",
   "metadata": {},
   "outputs": [
    {
     "name": "stdout",
     "output_type": "stream",
     "text": [
      "False\n"
     ]
    }
   ],
   "source": [
    "lst1 = \"12,34\"\n",
    "lst2 = lst1.split(',')\n",
    "print(len(lst1) < len(lst2))"
   ]
  },
  {
   "cell_type": "markdown",
   "id": "63348e83",
   "metadata": {},
   "source": [
    "###### 4) Question\n",
    "- for l in \"johan\"\n",
    "          if l==\"o\"\n",
    "                  pass\n",
    "          print(l,end=\",\")"
   ]
  },
  {
   "cell_type": "code",
   "execution_count": 7,
   "id": "877c89dc",
   "metadata": {},
   "outputs": [
    {
     "name": "stdout",
     "output_type": "stream",
     "text": [
      "j,o,h,a,n,"
     ]
    }
   ],
   "source": [
    "for l in \"johan\" :\n",
    "    if l == \"o\":\n",
    "                pass\n",
    "    print(l,end=\",\")"
   ]
  },
  {
   "cell_type": "markdown",
   "id": "188692f3",
   "metadata": {},
   "source": [
    "###### Q5) 10//3"
   ]
  },
  {
   "cell_type": "code",
   "execution_count": 8,
   "id": "477fa8a8",
   "metadata": {},
   "outputs": [
    {
     "data": {
      "text/plain": [
       "3"
      ]
     },
     "execution_count": 8,
     "metadata": {},
     "output_type": "execute_result"
    }
   ],
   "source": [
    "10//3"
   ]
  },
  {
   "cell_type": "markdown",
   "id": "a01ca234",
   "metadata": {},
   "source": [
    "###### Q6) What is the output of the following snippet\n",
    "- numbers = [10,20]\n",
    "- items = [\"chair\" , \"table\"]\n",
    "- for x in numbers:\n",
    "         - for y in items:\n",
    "                - print(x,y)"
   ]
  },
  {
   "cell_type": "code",
   "execution_count": 9,
   "id": "1258c799",
   "metadata": {},
   "outputs": [
    {
     "name": "stdout",
     "output_type": "stream",
     "text": [
      "10 chair\n",
      "10 table\n",
      "20 chair\n",
      "20 table\n"
     ]
    }
   ],
   "source": [
    "numbers = [10,20]\n",
    "items = [\"chair\", \"table\"]\n",
    "for x in numbers:\n",
    "    for y in items:\n",
    "        print(x,y)"
   ]
  },
  {
   "cell_type": "markdown",
   "id": "ec73e1a1",
   "metadata": {},
   "source": [
    "###### Q7) What is the output of the following snippet\n",
    "- class Dog:\n",
    "        - def walk(self):\n",
    "               - return \" *walking*\"\n",
    "        - def speak(self):\n",
    "                -return \"Woof!\"\n",
    "                \n",
    "- class JackRusselTerrier(Dog):\n",
    "        - def speak(self):\n",
    "                - return \"Arff!\"\n",
    "- bobo = JackRusselTerrier()\n",
    "- bobo.walk()"
   ]
  },
  {
   "cell_type": "code",
   "execution_count": 10,
   "id": "9aed227a",
   "metadata": {},
   "outputs": [],
   "source": [
    "class Dog:\n",
    "    def walk(self):\n",
    "        return \"*walking*\"\n",
    "    def speak(self):\n",
    "        return \"Woof!\"\n",
    "class JackRusselTerrier(Dog):\n",
    "    def speak(self):\n",
    "            return \"Arff!\""
   ]
  },
  {
   "cell_type": "code",
   "execution_count": 11,
   "id": "1a333820",
   "metadata": {},
   "outputs": [],
   "source": [
    "bobo = JackRusselTerrier()"
   ]
  },
  {
   "cell_type": "code",
   "execution_count": 12,
   "id": "fabdd066",
   "metadata": {},
   "outputs": [
    {
     "data": {
      "text/plain": [
       "<bound method Dog.walk of <__main__.JackRusselTerrier object at 0x000001ED1A082F50>>"
      ]
     },
     "execution_count": 12,
     "metadata": {},
     "output_type": "execute_result"
    }
   ],
   "source": [
    "bobo.walk"
   ]
  },
  {
   "cell_type": "markdown",
   "id": "5fd1d9ea",
   "metadata": {},
   "source": [
    "###### Q8) What is the expected output of the following snippet?\n",
    "- s = 'python'\n",
    "- for i in range(len(s)):\n",
    "            - i = s[i].upper()\n",
    "- print(s,end=\"\")"
   ]
  },
  {
   "cell_type": "code",
   "execution_count": 13,
   "id": "fd7661a9",
   "metadata": {},
   "outputs": [
    {
     "name": "stdout",
     "output_type": "stream",
     "text": [
      "python"
     ]
    }
   ],
   "source": [
    "s = \"python\"\n",
    "for i in range(len(s)):\n",
    "    i = s[i].upper()\n",
    "print(s,end=\"\")"
   ]
  },
  {
   "cell_type": "markdown",
   "id": "2f056faa",
   "metadata": {},
   "source": [
    "###### Q10) What will be the output of the following code?\n",
    "- print(type(1/2))"
   ]
  },
  {
   "cell_type": "code",
   "execution_count": 14,
   "id": "446899a5",
   "metadata": {},
   "outputs": [
    {
     "name": "stdout",
     "output_type": "stream",
     "text": [
      "<class 'float'>\n"
     ]
    }
   ],
   "source": [
    "print(type(1/2))"
   ]
  },
  {
   "cell_type": "markdown",
   "id": "e0c12509",
   "metadata": {},
   "source": [
    "###### Q11) what will be the output of following concatination?\n",
    "- country = \"Pakistan\"\n",
    "- independence_day = 1947\n",
    "- print(country + independence_day)"
   ]
  },
  {
   "cell_type": "code",
   "execution_count": 15,
   "id": "1d2c28ff",
   "metadata": {},
   "outputs": [
    {
     "ename": "TypeError",
     "evalue": "can only concatenate str (not \"int\") to str",
     "output_type": "error",
     "traceback": [
      "\u001b[1;31m---------------------------------------------------------------------------\u001b[0m",
      "\u001b[1;31mTypeError\u001b[0m                                 Traceback (most recent call last)",
      "Cell \u001b[1;32mIn[15], line 3\u001b[0m\n\u001b[0;32m      1\u001b[0m country \u001b[38;5;241m=\u001b[39m \u001b[38;5;124m\"\u001b[39m\u001b[38;5;124mPakistan\u001b[39m\u001b[38;5;124m\"\u001b[39m\n\u001b[0;32m      2\u001b[0m independence_day \u001b[38;5;241m=\u001b[39m \u001b[38;5;241m1947\u001b[39m\n\u001b[1;32m----> 3\u001b[0m \u001b[38;5;28mprint\u001b[39m(country \u001b[38;5;241m+\u001b[39m independence_day)\n",
      "\u001b[1;31mTypeError\u001b[0m: can only concatenate str (not \"int\") to str"
     ]
    }
   ],
   "source": [
    "country = \"Pakistan\"\n",
    "independence_day = 1947\n",
    "print(country + independence_day)"
   ]
  },
  {
   "cell_type": "markdown",
   "id": "cc72a3ae",
   "metadata": {},
   "source": [
    "###### Q12) What is output\n",
    "- b = [11,13,15,17,19,21]\n",
    "- print(b[::2])"
   ]
  },
  {
   "cell_type": "code",
   "execution_count": 16,
   "id": "cb7c6711",
   "metadata": {},
   "outputs": [
    {
     "name": "stdout",
     "output_type": "stream",
     "text": [
      "[11, 15, 19]\n"
     ]
    }
   ],
   "source": [
    "b = [11,13,15,17,19,21]\n",
    "print(b[::2])"
   ]
  },
  {
   "cell_type": "markdown",
   "id": "7c2beaa2",
   "metadata": {},
   "source": [
    "###### Q13) What is the expected output of the following snippet?\n",
    "- print(\"languages:\\npython\\nc\\njavascript\")"
   ]
  },
  {
   "cell_type": "code",
   "execution_count": 17,
   "id": "d6e06f87",
   "metadata": {},
   "outputs": [
    {
     "name": "stdout",
     "output_type": "stream",
     "text": [
      "languages:\n",
      "python\n",
      "c\n",
      "javascript\n"
     ]
    }
   ],
   "source": [
    "print(\"languages:\\npython\\nc\\njavascript\")"
   ]
  },
  {
   "cell_type": "markdown",
   "id": "fe33fa66",
   "metadata": {},
   "source": [
    "###### Q14) what is the value of the following expressions?\n",
    "- print(8/4/2) and print(8/(4/2))"
   ]
  },
  {
   "cell_type": "code",
   "execution_count": 19,
   "id": "442ee3e4",
   "metadata": {},
   "outputs": [
    {
     "name": "stdout",
     "output_type": "stream",
     "text": [
      "1.0\n",
      "4.0\n"
     ]
    }
   ],
   "source": [
    "print(8/4/2)\n",
    "print(8/(4/2))"
   ]
  },
  {
   "cell_type": "markdown",
   "id": "9b4c6f09",
   "metadata": {},
   "source": [
    "###### Q15)What is the expected output of the following snippet?"
   ]
  },
  {
   "cell_type": "code",
   "execution_count": 20,
   "id": "98a8c2db",
   "metadata": {},
   "outputs": [
    {
     "name": "stdout",
     "output_type": "stream",
     "text": [
      "3\n"
     ]
    }
   ],
   "source": [
    "x = 0\n",
    "a = 5\n",
    "b = 5\n",
    "if a > 0:\n",
    "    if b < 0:\n",
    "        x = x + 5\n",
    "    elif a > 5:\n",
    "        x = x + 4\n",
    "    else:\n",
    "        x = x + 3\n",
    "else:\n",
    "    x = x + 2\n",
    "print(x)"
   ]
  },
  {
   "cell_type": "markdown",
   "id": "f210a11b",
   "metadata": {},
   "source": [
    "###### Q16) Select the option for the following code :\n",
    "    - s = 0\n",
    "    - for d in range(0,5,0.1):\n",
    "        - s += d\n",
    "        - print(s)"
   ]
  },
  {
   "cell_type": "code",
   "execution_count": 24,
   "id": "9cca5a47",
   "metadata": {},
   "outputs": [
    {
     "ename": "TypeError",
     "evalue": "'float' object cannot be interpreted as an integer",
     "output_type": "error",
     "traceback": [
      "\u001b[1;31m---------------------------------------------------------------------------\u001b[0m",
      "\u001b[1;31mTypeError\u001b[0m                                 Traceback (most recent call last)",
      "Cell \u001b[1;32mIn[24], line 2\u001b[0m\n\u001b[0;32m      1\u001b[0m s \u001b[38;5;241m=\u001b[39m \u001b[38;5;241m0\u001b[39m \n\u001b[1;32m----> 2\u001b[0m \u001b[38;5;28;01mfor\u001b[39;00m d \u001b[38;5;129;01min\u001b[39;00m \u001b[38;5;28mrange\u001b[39m(\u001b[38;5;241m0\u001b[39m,\u001b[38;5;241m5\u001b[39m,\u001b[38;5;241m0.1\u001b[39m):\n\u001b[0;32m      3\u001b[0m     s \u001b[38;5;241m+\u001b[39m\u001b[38;5;241m=\u001b[39m d\n\u001b[0;32m      4\u001b[0m \u001b[38;5;28mprint\u001b[39m(s)\n",
      "\u001b[1;31mTypeError\u001b[0m: 'float' object cannot be interpreted as an integer"
     ]
    }
   ],
   "source": [
    "s = 0 \n",
    "for d in range(0,5,0.1):\n",
    "    s += d\n",
    "print(s)"
   ]
  },
  {
   "cell_type": "markdown",
   "id": "e66cbbd5",
   "metadata": {},
   "source": [
    "###### Q17) what are the values of"
   ]
  },
  {
   "cell_type": "code",
   "execution_count": 28,
   "id": "6dadebee",
   "metadata": {},
   "outputs": [
    {
     "name": "stdout",
     "output_type": "stream",
     "text": [
      "512\n",
      "64\n",
      "512\n"
     ]
    }
   ],
   "source": [
    "print(2**(3**2))\n",
    "print((2**3)**2)\n",
    "print(2**3**2)"
   ]
  },
  {
   "cell_type": "markdown",
   "id": "628e5f81",
   "metadata": {},
   "source": [
    "###### Q18) what is the value type returned after executing the following snippet?"
   ]
  },
  {
   "cell_type": "code",
   "execution_count": 29,
   "id": "609d15d2",
   "metadata": {},
   "outputs": [
    {
     "name": "stdout",
     "output_type": "stream",
     "text": [
      "False\n"
     ]
    }
   ],
   "source": [
    "x = 0 \n",
    "y = 2\n",
    "z = len(\"python\")\n",
    "x = y > z\n",
    "print(x)"
   ]
  },
  {
   "cell_type": "markdown",
   "id": "5d207fdb",
   "metadata": {},
   "source": [
    "###### Q19)What is the expected output of the following snippet?"
   ]
  },
  {
   "cell_type": "code",
   "execution_count": 37,
   "id": "838df12b",
   "metadata": {},
   "outputs": [
    {
     "ename": "SyntaxError",
     "evalue": "unexpected character after line continuation character (670819654.py, line 1)",
     "output_type": "error",
     "traceback": [
      "\u001b[1;36m  Cell \u001b[1;32mIn[37], line 1\u001b[1;36m\u001b[0m\n\u001b[1;33m    \"peter's sister's name's \\\"anna\"\\\"\u001b[0m\n\u001b[1;37m                                     ^\u001b[0m\n\u001b[1;31mSyntaxError\u001b[0m\u001b[1;31m:\u001b[0m unexpected character after line continuation character\n"
     ]
    }
   ],
   "source": [
    "\"peter's sister's name's \\\"anna\"\\\""
   ]
  },
  {
   "cell_type": "markdown",
   "id": "587c1bef",
   "metadata": {},
   "source": [
    "###### Q21)What is the expected output of the following snippet?"
   ]
  },
  {
   "cell_type": "code",
   "execution_count": 38,
   "id": "75b295cc",
   "metadata": {},
   "outputs": [
    {
     "name": "stdout",
     "output_type": "stream",
     "text": [
      "<class 'str'>\n"
     ]
    }
   ],
   "source": [
    "favorite_lan = {'Shahid' : 'English','salma':'Hindi','edward' : 'Chinese','Ali' : 'Urdu'}\n",
    "print(type(favorite_lan['Shahid']))"
   ]
  },
  {
   "cell_type": "markdown",
   "id": "c7700cc2",
   "metadata": {},
   "source": [
    "###### Q22) What is the expected output of the following snippet?"
   ]
  },
  {
   "cell_type": "code",
   "execution_count": 39,
   "id": "445757df",
   "metadata": {},
   "outputs": [],
   "source": [
    "class Dog:\n",
    "    def walk(self):\n",
    "        return \"*walking*\"\n",
    "    def speak(self):\n",
    "        return \"Woof!\"\n",
    "class JackRusselTerrier(Dog):\n",
    "    def speak(self):\n",
    "            return \"Arff!\""
   ]
  },
  {
   "cell_type": "code",
   "execution_count": 40,
   "id": "41e77980",
   "metadata": {},
   "outputs": [],
   "source": [
    "bebo = JackRusselTerrier()"
   ]
  },
  {
   "cell_type": "code",
   "execution_count": 41,
   "id": "1ffbd54c",
   "metadata": {},
   "outputs": [
    {
     "data": {
      "text/plain": [
       "<bound method JackRusselTerrier.speak of <__main__.JackRusselTerrier object at 0x000001ED1B1F1810>>"
      ]
     },
     "execution_count": 41,
     "metadata": {},
     "output_type": "execute_result"
    }
   ],
   "source": [
    "bebo.speak"
   ]
  },
  {
   "cell_type": "markdown",
   "id": "7ed54f6e",
   "metadata": {},
   "source": [
    "###### Q23) what is the result of the following comparison?"
   ]
  },
  {
   "cell_type": "code",
   "execution_count": null,
   "id": "9c24d84a",
   "metadata": {},
   "outputs": [],
   "source": [
    "## x = \"20\"\n",
    "y = \"30\"\n",
    "print(x > y)"
   ]
  },
  {
   "cell_type": "markdown",
   "id": "24f74982",
   "metadata": {},
   "source": [
    "###### Q24) What is the output of the following function call?"
   ]
  },
  {
   "cell_type": "code",
   "execution_count": 45,
   "id": "40cc54b7",
   "metadata": {},
   "outputs": [
    {
     "name": "stdout",
     "output_type": "stream",
     "text": [
      "Emma 25\n"
     ]
    }
   ],
   "source": [
    "def fun(name,age=20):\n",
    "    print(name,age)\n",
    "fun(\"Emma\",25)"
   ]
  },
  {
   "cell_type": "markdown",
   "id": "fdc2a8d9",
   "metadata": {},
   "source": [
    "###### Q25) What is the correct syntax for deleting a value on index 2 from alist:"
   ]
  },
  {
   "cell_type": "code",
   "execution_count": 58,
   "id": "07204d81",
   "metadata": {},
   "outputs": [],
   "source": [
    "alist = [1,2,3,4,5,6,7,8,9]"
   ]
  },
  {
   "cell_type": "code",
   "execution_count": 59,
   "id": "bcf9d32d",
   "metadata": {},
   "outputs": [
    {
     "name": "stdout",
     "output_type": "stream",
     "text": [
      "None\n"
     ]
    }
   ],
   "source": [
    "alists = alist.remove(2)\n",
    "print(alists)"
   ]
  },
  {
   "cell_type": "markdown",
   "id": "33d5bb5b",
   "metadata": {},
   "source": [
    "###### Q26)What is the expected output of the following snippet?"
   ]
  },
  {
   "cell_type": "code",
   "execution_count": 61,
   "id": "f8229e68",
   "metadata": {},
   "outputs": [
    {
     "ename": "TypeError",
     "evalue": "'str' object does not support item assignment",
     "output_type": "error",
     "traceback": [
      "\u001b[1;31m---------------------------------------------------------------------------\u001b[0m",
      "\u001b[1;31mTypeError\u001b[0m                                 Traceback (most recent call last)",
      "Cell \u001b[1;32mIn[61], line 2\u001b[0m\n\u001b[0;32m      1\u001b[0m name \u001b[38;5;241m=\u001b[39m \u001b[38;5;124m\"\u001b[39m\u001b[38;5;124mSaylani\u001b[39m\u001b[38;5;124m\"\u001b[39m\n\u001b[1;32m----> 2\u001b[0m name[\u001b[38;5;241m0\u001b[39m] \u001b[38;5;241m=\u001b[39m s\n\u001b[0;32m      3\u001b[0m \u001b[38;5;28mprint\u001b[39m(name)\n",
      "\u001b[1;31mTypeError\u001b[0m: 'str' object does not support item assignment"
     ]
    }
   ],
   "source": [
    "name = \"Saylani\"\n",
    "name[0] = s\n",
    "print(name)"
   ]
  },
  {
   "cell_type": "markdown",
   "id": "7d6a0212",
   "metadata": {},
   "source": [
    "###### Q28)What is the expected output of the following snippet?"
   ]
  },
  {
   "cell_type": "code",
   "execution_count": 66,
   "id": "f83e25d0",
   "metadata": {},
   "outputs": [
    {
     "name": "stdout",
     "output_type": "stream",
     "text": [
      "2.5\n"
     ]
    }
   ],
   "source": [
    "number = 1 + 2 * 3/4\n",
    "print(number)"
   ]
  },
  {
   "cell_type": "markdown",
   "id": "958bccbf",
   "metadata": {},
   "source": [
    "###### Q29)What is the expected output of the following snippet?"
   ]
  },
  {
   "cell_type": "code",
   "execution_count": 67,
   "id": "77daf0e0",
   "metadata": {},
   "outputs": [],
   "source": [
    "def outer_fun(a,b):\n",
    "    def inner_fun(c,d):\n",
    "        return c + d\n",
    "    return inner_fun(a,b)\n",
    "    return a"
   ]
  },
  {
   "cell_type": "code",
   "execution_count": 70,
   "id": "bba393d3",
   "metadata": {},
   "outputs": [
    {
     "name": "stdout",
     "output_type": "stream",
     "text": [
      "15\n"
     ]
    }
   ],
   "source": [
    "result = outer_fun(5,10)\n",
    "print(result)"
   ]
  },
  {
   "cell_type": "markdown",
   "id": "9f53ff94",
   "metadata": {},
   "source": [
    "###### Q31) What is the expected output of the following snippet?"
   ]
  },
  {
   "cell_type": "code",
   "execution_count": 76,
   "id": "3bc09a65",
   "metadata": {},
   "outputs": [
    {
     "name": "stdout",
     "output_type": "stream",
     "text": [
      "hello, python!\n"
     ]
    }
   ],
   "source": [
    "s = \"hello, python!\"\n",
    "print(s[-121:20])"
   ]
  },
  {
   "cell_type": "markdown",
   "id": "f13bfde0",
   "metadata": {},
   "source": [
    "###### Q32)What is the expected output of the following snippet?"
   ]
  },
  {
   "cell_type": "code",
   "execution_count": 77,
   "id": "2f448b8d",
   "metadata": {},
   "outputs": [],
   "source": [
    "lst = [\"a\",\"b\",\"c\",2,4]"
   ]
  },
  {
   "cell_type": "code",
   "execution_count": 78,
   "id": "d642c4f2",
   "metadata": {},
   "outputs": [
    {
     "name": "stdout",
     "output_type": "stream",
     "text": [
      "[2, 4]\n"
     ]
    }
   ],
   "source": [
    "del lst[0:-2]\n",
    "print(lst)"
   ]
  },
  {
   "cell_type": "markdown",
   "id": "4f7cdaef",
   "metadata": {},
   "source": [
    "###### Q33)What is the expected output of the following snippet?"
   ]
  },
  {
   "cell_type": "code",
   "execution_count": 79,
   "id": "16595805",
   "metadata": {},
   "outputs": [
    {
     "name": "stdout",
     "output_type": "stream",
     "text": [
      "a\n",
      "b\n",
      "c\n"
     ]
    }
   ],
   "source": [
    "dict = {\"a\" : 1, \"b\" : 2, \"c\" : 3}\n",
    "for item in dict:\n",
    "    print(item)"
   ]
  },
  {
   "cell_type": "markdown",
   "id": "f8b7c85c",
   "metadata": {},
   "source": [
    "###### Q34)What is the expected output of the following snippet?"
   ]
  },
  {
   "cell_type": "code",
   "execution_count": 80,
   "id": "87cd67e0",
   "metadata": {},
   "outputs": [],
   "source": [
    "mylist = [11,22,33,44,55,66,77,88,99]"
   ]
  },
  {
   "cell_type": "code",
   "execution_count": 89,
   "id": "b91ff99b",
   "metadata": {},
   "outputs": [
    {
     "data": {
      "text/plain": [
       "[99, 88, 77, 66, 55, 44, 33, 22, 11]"
      ]
     },
     "execution_count": 89,
     "metadata": {},
     "output_type": "execute_result"
    }
   ],
   "source": [
    "mylist[::-1]"
   ]
  },
  {
   "cell_type": "markdown",
   "id": "d3dd8cc2",
   "metadata": {},
   "source": [
    "###### Q35)What is the expected output of the following snippet?"
   ]
  },
  {
   "cell_type": "code",
   "execution_count": 90,
   "id": "13c62ebc",
   "metadata": {},
   "outputs": [
    {
     "name": "stdout",
     "output_type": "stream",
     "text": [
      "3\n"
     ]
    }
   ],
   "source": [
    "a = 0\n",
    "b = a ** 0 \n",
    "if b < a + 1:\n",
    "    c = 1\n",
    "elif b == 1:\n",
    "    c = 2\n",
    "else:\n",
    "    c = 3\n",
    "print(a + b + c)"
   ]
  },
  {
   "cell_type": "markdown",
   "id": "b1c40494",
   "metadata": {},
   "source": [
    "###### Q36) What is the output of the code?"
   ]
  },
  {
   "cell_type": "code",
   "execution_count": 91,
   "id": "f09453b7",
   "metadata": {},
   "outputs": [
    {
     "ename": "SyntaxError",
     "evalue": "':' expected after dictionary key (2606383166.py, line 1)",
     "output_type": "error",
     "traceback": [
      "\u001b[1;36m  Cell \u001b[1;32mIn[91], line 1\u001b[1;36m\u001b[0m\n\u001b[1;33m    d0 = {\"a\" : 1 , \"b\" , 2}\u001b[0m\n\u001b[1;37m                      ^\u001b[0m\n\u001b[1;31mSyntaxError\u001b[0m\u001b[1;31m:\u001b[0m ':' expected after dictionary key\n"
     ]
    }
   ],
   "source": [
    "d0 = {\"a\" : 1 , \"b\" , 2}\n",
    "d1 = {\"a\" : 3 , \"b\" : 4}\n",
    "d1 > d0"
   ]
  },
  {
   "cell_type": "markdown",
   "id": "614ef597",
   "metadata": {},
   "source": [
    "###### Q37) how can we find the type of the variable?"
   ]
  },
  {
   "cell_type": "code",
   "execution_count": 92,
   "id": "f1c8cc0b",
   "metadata": {},
   "outputs": [],
   "source": [
    "val = 100"
   ]
  },
  {
   "cell_type": "code",
   "execution_count": 93,
   "id": "bb794551",
   "metadata": {},
   "outputs": [
    {
     "data": {
      "text/plain": [
       "int"
      ]
     },
     "execution_count": 93,
     "metadata": {},
     "output_type": "execute_result"
    }
   ],
   "source": [
    "type(val)"
   ]
  },
  {
   "cell_type": "markdown",
   "id": "4edbcb5c",
   "metadata": {},
   "source": [
    "###### Q38) What is the output of the following expression?"
   ]
  },
  {
   "cell_type": "code",
   "execution_count": 94,
   "id": "709e73c5",
   "metadata": {},
   "outputs": [
    {
     "data": {
      "text/plain": [
       "512"
      ]
     },
     "execution_count": 94,
     "metadata": {},
     "output_type": "execute_result"
    }
   ],
   "source": [
    "2 ** 3 ** 2 ** 1"
   ]
  },
  {
   "cell_type": "code",
   "execution_count": null,
   "id": "38378d84",
   "metadata": {},
   "outputs": [],
   "source": []
  }
 ],
 "metadata": {
  "kernelspec": {
   "display_name": "Python 3 (ipykernel)",
   "language": "python",
   "name": "python3"
  },
  "language_info": {
   "codemirror_mode": {
    "name": "ipython",
    "version": 3
   },
   "file_extension": ".py",
   "mimetype": "text/x-python",
   "name": "python",
   "nbconvert_exporter": "python",
   "pygments_lexer": "ipython3",
   "version": "3.11.5"
  }
 },
 "nbformat": 4,
 "nbformat_minor": 5
}
